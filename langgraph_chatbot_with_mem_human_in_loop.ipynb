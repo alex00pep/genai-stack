{
 "cells": [
  {
   "cell_type": "code",
   "execution_count": 33,
   "id": "85cc6b20",
   "metadata": {},
   "outputs": [],
   "source": [
    "### Imports\n",
    "from langchain_core.messages import AnyMessage, HumanMessage, SystemMessage, AIMessage\n",
    "from langgraph.graph.message import add_messages\n",
    "from langchain_ollama import ChatOllama\n",
    "from langchain_core.prompts import ChatPromptTemplate, MessagesPlaceholder\n",
    "from langgraph.checkpoint.memory import MemorySaver\n",
    "from langgraph.graph import START, MessagesState, StateGraph\n",
    "from typing import Sequence\n",
    "from langchain_core.messages import BaseMessage\n",
    "from langgraph.graph.message import add_messages\n",
    "from typing_extensions import Annotated, TypedDict\n",
    "\n",
    "from langchain_community.utilities import GoogleSerperAPIWrapper\n",
    "from langchain.agents import Tool\n",
    "from langgraph.prebuilt import ToolNode, tools_condition\n",
    "\n",
    "from dotenv import load_dotenv"
   ]
  },
  {
   "cell_type": "code",
   "execution_count": 34,
   "id": "3a6b3927",
   "metadata": {},
   "outputs": [],
   "source": [
    "# Load LLMs\n",
    "load_dotenv()\n",
    "base_url = \"http://192.168.0.108:11434\"\n",
    "\n",
    "# router_llm = \"llama3.2:3b-instruct-fp16\"\n",
    "# router_llm = \"llama3-groq-tool-use:latest\"\n",
    "router_llm = \"qwen2.5:14b\"\n",
    "llm = ChatOllama(model=router_llm, temperature=0, base_url=base_url, validate_model_on_init=True)"
   ]
  },
  {
   "cell_type": "code",
   "execution_count": 35,
   "id": "42973798",
   "metadata": {},
   "outputs": [
    {
     "data": {
      "text/plain": [
       "'Hello! How can I assist you today? Feel free to ask me anything or let me know if you have any questions.'"
      ]
     },
     "execution_count": 35,
     "metadata": {},
     "output_type": "execute_result"
    }
   ],
   "source": [
    "query = \"Hi!\"\n",
    "response = llm.invoke([{\"role\": \"user\", \"content\": query}])\n",
    "response.text()"
   ]
  },
  {
   "cell_type": "code",
   "execution_count": 36,
   "id": "f8684e23",
   "metadata": {},
   "outputs": [
    {
     "data": {
      "text/plain": [
       "AIMessage(content=\"Hello Bob! It's nice to meet you. How can I assist you today?\", additional_kwargs={}, response_metadata={'model': 'qwen2.5:14b', 'created_at': '2025-08-17T16:57:22.695374782Z', 'done': True, 'done_reason': 'stop', 'total_duration': 607484440, 'load_duration': 102963455, 'prompt_eval_count': 34, 'prompt_eval_duration': 56125069, 'eval_count': 18, 'eval_duration': 437169347, 'model_name': 'qwen2.5:14b'}, id='run--704ae3ef-f943-4fde-b33c-e8f0d4dd7915-0', usage_metadata={'input_tokens': 34, 'output_tokens': 18, 'total_tokens': 52})"
      ]
     },
     "execution_count": 36,
     "metadata": {},
     "output_type": "execute_result"
    }
   ],
   "source": [
    "llm.invoke([HumanMessage(content=\"Hi! I'm Bob\")])"
   ]
  },
  {
   "cell_type": "code",
   "execution_count": 37,
   "id": "e0410fc0",
   "metadata": {},
   "outputs": [
    {
     "data": {
      "text/plain": [
       "AIMessage(content=\"As an artificial intelligence, I don't have information about your personal identity unless you provide it to me. What would you like to know or discuss?\", additional_kwargs={}, response_metadata={'model': 'qwen2.5:14b', 'created_at': '2025-08-17T16:57:23.596288379Z', 'done': True, 'done_reason': 'stop', 'total_duration': 881131671, 'load_duration': 94984456, 'prompt_eval_count': 34, 'prompt_eval_duration': 32765721, 'eval_count': 31, 'eval_duration': 742055519, 'model_name': 'qwen2.5:14b'}, id='run--3f0ad1cd-39d2-433c-9794-ce8ca2fa1a6e-0', usage_metadata={'input_tokens': 34, 'output_tokens': 31, 'total_tokens': 65})"
      ]
     },
     "execution_count": 37,
     "metadata": {},
     "output_type": "execute_result"
    }
   ],
   "source": [
    "llm.invoke([HumanMessage(content=\"What's my name?\")])"
   ]
  },
  {
   "cell_type": "markdown",
   "id": "b0f439cb",
   "metadata": {},
   "source": [
    "We can see that it doesn't take the previous conversation turn into context, and cannot answer the question. This makes for a terrible chatbot experience!\n",
    "\n",
    "To get around this, we need to pass the entire conversation history into the model. Let's see what happens when we do that:"
   ]
  },
  {
   "cell_type": "code",
   "execution_count": 38,
   "id": "111a74be",
   "metadata": {},
   "outputs": [],
   "source": [
    "response = llm.invoke(\n",
    "    [\n",
    "        HumanMessage(content=\"Hi! I'm Bob\"),\n",
    "        AIMessage(content=\"Hello Bob! How can I assist you today?\"),\n",
    "        HumanMessage(content=\"What's my name?\"),\n",
    "    ]\n",
    ")"
   ]
  },
  {
   "cell_type": "code",
   "execution_count": 39,
   "id": "bb94f902",
   "metadata": {},
   "outputs": [
    {
     "name": "stdout",
     "output_type": "stream",
     "text": [
      "Message content: Your name is Bob, as you just introduced yourself to me. Is there anything specific you would like help with, Bob?\n",
      "\n",
      "Tool calls: []\n"
     ]
    }
   ],
   "source": [
    "print(f\"Message content: {response.text()}\\n\")\n",
    "print(f\"Tool calls: {response.tool_calls}\")"
   ]
  },
  {
   "cell_type": "markdown",
   "id": "e38fec3c",
   "metadata": {},
   "source": [
    "### Prompt templates\n",
    "Prompt Templates help to turn raw user information into a format that the LLM can work with. In this case, the raw user input is just a message, which we are passing to the LLM. Let's now make that a bit more complicated. First, let's add in a system message with some custom instructions (but still taking messages as input). Next, we'll add in more input besides just the messages.\n",
    "\n",
    "To add in a system message, we will create a ChatPromptTemplate. We will utilize MessagesPlaceholder to pass all the messages in."
   ]
  },
  {
   "cell_type": "code",
   "execution_count": 40,
   "id": "cdf686e4",
   "metadata": {},
   "outputs": [],
   "source": [
    "from langchain_core.messages import ChatMessage\n",
    "prompt_template = ChatPromptTemplate.from_messages(\n",
    "    [\n",
    "        \n",
    "        (\n",
    "            \"system\",\n",
    "            \"You are a helpful assistant. Answer all questions to the best of your ability in {language}. \"\n",
    "            \"Think twice and use your memory to answer past questions or user interactions.\"\n",
    "            \"For translation questions, use the websearch tool. \"\n",
    "            \"For question to an expert or representative, use the human_assistance tool. \"\n",
    "            \"For question such as about current events , use WebSearch tool.\",\n",
    "        ),\n",
    "        MessagesPlaceholder(variable_name=\"messages\"),\n",
    "    ]\n",
    ")"
   ]
  },
  {
   "cell_type": "markdown",
   "id": "6b5f5f0d",
   "metadata": {},
   "source": [
    "One important concept to understand when building chatbots is how to manage conversation history. If left unmanaged, the list of messages will grow unbounded and potentially overflow the context window of the LLM. Therefore, it is important to add a step that limits the size of the messages you are passing in.\n",
    "\n",
    "Importantly, you will want to do this BEFORE the prompt template but AFTER you load previous messages from Message History.\n",
    "\n",
    "We can do this by adding a simple step in front of the prompt that modifies the messages key appropriately, and then wrap that new chain in the Message History class.\n",
    "\n",
    "LangChain comes with a few built-in helpers for managing a list of messages. In this case we'll use the trim_messages helper to reduce how many messages we're sending to the model. The trimmer allows us to specify how many tokens we want to keep, along with other parameters like if we want to always keep the system message and whether to allow partial messages:"
   ]
  },
  {
   "cell_type": "code",
   "execution_count": 41,
   "id": "a6ef647b",
   "metadata": {},
   "outputs": [
    {
     "data": {
      "text/plain": [
       "[SystemMessage(content=\"you're a good assistant\", additional_kwargs={}, response_metadata={}),\n",
       " HumanMessage(content=\"hi! I'm bob\", additional_kwargs={}, response_metadata={}),\n",
       " AIMessage(content='hi!', additional_kwargs={}, response_metadata={}),\n",
       " HumanMessage(content='I like vanilla ice cream', additional_kwargs={}, response_metadata={}),\n",
       " AIMessage(content='nice', additional_kwargs={}, response_metadata={}),\n",
       " HumanMessage(content='whats 2 + 2', additional_kwargs={}, response_metadata={}),\n",
       " AIMessage(content='4', additional_kwargs={}, response_metadata={}),\n",
       " HumanMessage(content='thanks', additional_kwargs={}, response_metadata={}),\n",
       " AIMessage(content='no problem!', additional_kwargs={}, response_metadata={}),\n",
       " HumanMessage(content='having fun?', additional_kwargs={}, response_metadata={})]"
      ]
     },
     "execution_count": 41,
     "metadata": {},
     "output_type": "execute_result"
    }
   ],
   "source": [
    "from langchain_core.messages import SystemMessage, trim_messages\n",
    "from langchain_core.messages.utils import count_tokens_approximately\n",
    "\n",
    "\n",
    "trimmer = trim_messages(\n",
    "    # Keep the last <= n_count tokens of the messages.\n",
    "    strategy=\"last\",\n",
    "    # Remember to adjust based on your model\n",
    "    # or else pass a custom token_counter\n",
    "    token_counter=len,\n",
    "    # Most chat models expect that chat history starts with either:\n",
    "    # (1) a HumanMessage or\n",
    "    # (2) a SystemMessage followed by a HumanMessage\n",
    "    # Remember to adjust based on the desired conversation\n",
    "    # length\n",
    "    max_tokens=45,\n",
    "    # Most chat models expect that chat history starts with either:\n",
    "    # (1) a HumanMessage or\n",
    "    # (2) a SystemMessage followed by a HumanMessage\n",
    "    start_on=\"human\",\n",
    "    # Most chat models expect that chat history ends with either:\n",
    "    # (1) a HumanMessage or\n",
    "    # (2) a ToolMessage\n",
    "    end_on=(\"human\", \"tool\"),\n",
    "    # Usually, we want to keep the SystemMessage\n",
    "    # if it's present in the original history.\n",
    "    # The SystemMessage has special instructions for the model.\n",
    "    include_system=True,\n",
    "    # allow_partial=False,\n",
    ")\n",
    "\n",
    "messages = [\n",
    "    SystemMessage(content=\"you're a good assistant\"),\n",
    "    HumanMessage(content=\"hi! I'm bob\"),\n",
    "    AIMessage(content=\"hi!\"),\n",
    "    HumanMessage(content=\"I like vanilla ice cream\"),\n",
    "    AIMessage(content=\"nice\"),\n",
    "    HumanMessage(content=\"whats 2 + 2\"),\n",
    "    AIMessage(content=\"4\"),\n",
    "    HumanMessage(content=\"thanks\"),\n",
    "    AIMessage(content=\"no problem!\"),\n",
    "    HumanMessage(content=\"having fun?\"),\n",
    "    AIMessage(content=\"yes!\"),\n",
    "]\n",
    "\n",
    "# Test the trimmer\n",
    "trimmer.invoke(messages)"
   ]
  },
  {
   "cell_type": "code",
   "execution_count": 42,
   "id": "fd815307",
   "metadata": {},
   "outputs": [
    {
     "name": "stdout",
     "output_type": "stream",
     "text": [
      "Partly cloudy skies. Expect mist and reduced visibilities at times. Low 57F. Winds W at 10 to 20 mph. Humidity87%. UV Index0 of ... San Francisco, CA Forecast · Morning. 57°. -- · Afternoon. 61°. -- · Evening. 57°. Chance of Rain3% · Overnight. 54°. Chance of Rain12%. SF is cool and often foggy. 25C is pretty rare, but so is less than 10C. Even if it hits 30C, it almost always goes below 20C at night. I've ... Hourly Weather · 1 PM 67°. rain drop 5% · 2 PM 68°. rain drop 0% · 3 PM 69°. rain drop 0% · 4 PM 68°. rain drop 0% · 5 PM 67°. rain drop 0% · 6 PM 66°. rain ... Sun 15 · 63 · Sunshine and clouds mixed. High 63F. Winds W at 15 to 25 mph. ; Mon 16 · 63 · Some clouds in the morning will give way to mainly sunny skies for the ... Afternoon. Mainly cloudy. 17°. Feels 17 · 30% ; Evening. Partly cloudy. 16°. Feels 15 · 20% ; Overnight. Fog patches. 13°. Feels 11 · 30%. ... weather forecast for San Francisco ... Drizzle and a gentle breeze. Humidity: 88%; Pressure: 1014 mb; Visibility: Moderate. Temperature feels like 17°62°. Cloudy skies early, then partly cloudy in the afternoon. High 68F. Winds W at 15 to 25 mph. Partly cloudy, with a low around 56. West wind 11 to 18 mph, with gusts as high as 28 mph. Monday. Mostly sunny, with a high near 68.\n"
     ]
    }
   ],
   "source": [
    "# Web Search Tool - Serperdev\n",
    "from langgraph.types import Command, interrupt\n",
    "from langchain_core.tools import tool\n",
    "\n",
    "search = GoogleSerperAPIWrapper()\n",
    "web_search_tool = Tool(\n",
    "    name=\"WebSearch\",\n",
    "    func=search.run,\n",
    "    description=\"useful for when you need to do a web search\",\n",
    ")\n",
    "question = \"What is the weather like in SF?\"\n",
    "print(web_search_tool.invoke({\"query\": question}))\n"
   ]
  },
  {
   "cell_type": "code",
   "execution_count": 43,
   "id": "4159bd33",
   "metadata": {},
   "outputs": [],
   "source": [
    "# Bind tool to an LLM\n",
    "\n",
    "tools = [web_search_tool]\n",
    "llm_with_tools = llm.bind_tools(tools)"
   ]
  },
  {
   "cell_type": "code",
   "execution_count": 44,
   "id": "63c5e81f",
   "metadata": {},
   "outputs": [
    {
     "name": "stdout",
     "output_type": "stream",
     "text": [
      "{'additional_kwargs': {},\n",
      " 'content': 'Hello Alex! How can I assist you today?',\n",
      " 'example': False,\n",
      " 'id': 'run--801bdfdd-90dc-47d9-ac3b-e6a1dbf7004c-0',\n",
      " 'invalid_tool_calls': [],\n",
      " 'name': None,\n",
      " 'response_metadata': {'created_at': '2025-08-17T16:57:25.894949404Z',\n",
      "                       'done': True,\n",
      "                       'done_reason': 'stop',\n",
      "                       'eval_count': 11,\n",
      "                       'eval_duration': 299185084,\n",
      "                       'load_duration': 103450271,\n",
      "                       'model': 'qwen2.5:14b',\n",
      "                       'model_name': 'qwen2.5:14b',\n",
      "                       'prompt_eval_count': 166,\n",
      "                       'prompt_eval_duration': 76492767,\n",
      "                       'total_duration': 488816075},\n",
      " 'tool_calls': [],\n",
      " 'type': 'ai',\n",
      " 'usage_metadata': {'input_tokens': 166,\n",
      "                    'output_tokens': 11,\n",
      "                    'total_tokens': 177}}\n"
     ]
    }
   ],
   "source": [
    "# Testing the model with tools :This time it SHOULD NOT decide to use the web search tool\n",
    "import pprint as pp\n",
    "\n",
    "\n",
    "result = llm_with_tools.invoke(\n",
    "    [HumanMessage(content=\"Hi Im Alex?\")]\n",
    ")\n",
    "\n",
    "pp.pprint(result.model_dump())"
   ]
  },
  {
   "cell_type": "code",
   "execution_count": 45,
   "id": "b4984deb",
   "metadata": {},
   "outputs": [
    {
     "name": "stdout",
     "output_type": "stream",
     "text": [
      "{'additional_kwargs': {},\n",
      " 'content': 'I couldn\\'t find specific information about \"langgraph\" as it\\'s '\n",
      "            'not a widely recognized term or product. It seems like you might '\n",
      "            'be referring to something specific within a certain context, such '\n",
      "            'as a project name, library, or tool related to language '\n",
      "            'processing or graph theory. Could you provide more details so I '\n",
      "            \"can help you better? If you're unsure about the exact term but \"\n",
      "            'have an idea of what it does, feel free to describe its '\n",
      "            \"functionality and I'll try to find relevant information for you.\",\n",
      " 'example': False,\n",
      " 'id': 'run--4f1227b2-0108-416e-9323-d7198f934f75-0',\n",
      " 'invalid_tool_calls': [],\n",
      " 'name': None,\n",
      " 'response_metadata': {'created_at': '2025-08-17T16:57:28.485835288Z',\n",
      "                       'done': True,\n",
      "                       'done_reason': 'stop',\n",
      "                       'eval_count': 102,\n",
      "                       'eval_duration': 2426997924,\n",
      "                       'load_duration': 98610150,\n",
      "                       'model': 'qwen2.5:14b',\n",
      "                       'model_name': 'qwen2.5:14b',\n",
      "                       'prompt_eval_count': 167,\n",
      "                       'prompt_eval_duration': 29795458,\n",
      "                       'total_duration': 2571797736},\n",
      " 'tool_calls': [],\n",
      " 'type': 'ai',\n",
      " 'usage_metadata': {'input_tokens': 167,\n",
      "                    'output_tokens': 102,\n",
      "                    'total_tokens': 269}}\n"
     ]
    }
   ],
   "source": [
    "# Testing the model with tools :This time it should decide to use the web search tool\n",
    "import pprint as pp\n",
    "\n",
    "# # This is the prompt template that we defined earlier\n",
    "# prompt = prompt_template.invoke(\n",
    "#     {\"messages\": [HumanMessage(content=\"What is the weather?\")], \"language\": \"English\"}\n",
    "# )\n",
    "\n",
    "result = llm_with_tools.invoke([HumanMessage(content=\"What is langgraph?\")])\n",
    "\n",
    "pp.pprint(result.model_dump())"
   ]
  },
  {
   "cell_type": "markdown",
   "id": "faf623bd",
   "metadata": {},
   "source": [
    "### Langgraph app\n",
    "Wrapping our chat model in a minimal LangGraph application allows us to automatically persist the message history, simplifying the development of multi-turn applications.\n",
    "\n",
    "LangGraph comes with a simple in-memory checkpointer, which we use below. See its documentation for more detail, including how to use different persistence backends (e.g., SQLite or Postgres)."
   ]
  },
  {
   "cell_type": "code",
   "execution_count": 46,
   "id": "bf32be6f",
   "metadata": {},
   "outputs": [],
   "source": [
    "# Graph state\n",
    "\n",
    "\n",
    "class State(TypedDict):\n",
    "    messages: Annotated[Sequence[BaseMessage], add_messages]\n",
    "    language: str"
   ]
  },
  {
   "cell_type": "code",
   "execution_count": 47,
   "id": "b33ea5b4",
   "metadata": {},
   "outputs": [],
   "source": [
    "# Bind tool to an LLM\n",
    "import json\n",
    "\n",
    "@tool\n",
    "def human_assistance(query: str) -> str:\n",
    "    \"\"\"Request assistance from a human.\"\"\"\n",
    "\n",
    "    human_response = interrupt({\"query\": query, \"expected_output\": {\"data\": \"string\"}})\n",
    "    if not human_response or \"data\" not in human_response:\n",
    "        raise ValueError(\"Human response is missing or invalid.\")\n",
    "    if not isinstance(human_response[\"data\"], str):\n",
    "        raise TypeError(\"Human response data should be a string.\")\n",
    "    return human_response[\"data\"]\n",
    "    \n",
    "\n",
    "\n",
    "\n",
    "tools = [web_search_tool, human_assistance]\n",
    "llm_with_tools = llm.bind_tools(tools)"
   ]
  },
  {
   "cell_type": "code",
   "execution_count": 48,
   "id": "7e1e0870",
   "metadata": {},
   "outputs": [],
   "source": [
    "from typing import Literal\n",
    "from langchain_core.runnables import RunnableConfig\n",
    "\n",
    "# Define a new graph\n",
    "workflow = StateGraph(State)\n",
    "\n",
    "\n",
    "# Define the function that calls the model\n",
    "def call_model(\n",
    "    state: State,\n",
    "    config: RunnableConfig,\n",
    ") -> dict[str, Sequence[BaseMessage]]:\n",
    "    \"\"\"Call the model with the current state.\"\"\"\n",
    "    # Conversation History management:\n",
    "    # Use the trimmer to get the messages that fit within the token limit\n",
    "    trimmed_messages = trimmer.invoke(state[\"messages\"])\n",
    "    # and then invoke the prompt template with those messages\n",
    "    # and the language from the state.\n",
    "\n",
    "    # This is the prompt template that we defined earlier\n",
    "    prompt = prompt_template.invoke(\n",
    "        {\"messages\": trimmed_messages, \"language\": state[\"language\"]}\n",
    "    )\n",
    "\n",
    "    message = llm_with_tools.invoke(prompt, config=config)\n",
    "    # Because we will be interrupting during tool execution,\n",
    "    # we disable parallel tool calling to avoid repeating any\n",
    "    # tool invocations when we resume.\n",
    "    assert len(message.tool_calls) <= 1\n",
    "\n",
    "    return {\"messages\": [message]}\n",
    "\n",
    "\n",
    "def human_approval(state: State) -> Command[Literal[\"tools\", \"assistant\"]]:\n",
    "    is_approved = interrupt(\n",
    "        {\n",
    "            \"question\": \"Is this correct?\",\n",
    "            # Surface the output that should be\n",
    "            # reviewed and approved by the human.\n",
    "            \"llm_output\": state[\"llm_output\"],\n",
    "        }\n",
    "    )\n",
    "\n",
    "    if is_approved:\n",
    "        return Command(goto=\"tools\")\n",
    "    else:\n",
    "        return Command(goto=\"assistant\")\n",
    "\n",
    "\n",
    "# Define the nodes in the graph\n",
    "workflow.add_node(\"assistant\", call_model)\n",
    "workflow.add_node(\"tools\", ToolNode(tools=tools))\n",
    "workflow.add_conditional_edges(\n",
    "    \"assistant\",\n",
    "    tools_condition)   \n",
    "\n",
    "# # Define the edges in the graph\n",
    "workflow.add_edge(START, \"assistant\")\n",
    "workflow.add_edge(\"tools\", \"assistant\")\n",
    "# Add memory\n",
    "memory = MemorySaver()\n",
    "app = workflow.compile(checkpointer=memory)\n",
    "\n",
    "config = {\"configurable\": {\"thread_id\": \"abc32454\"}}"
   ]
  },
  {
   "cell_type": "code",
   "execution_count": 49,
   "id": "89ebc60b",
   "metadata": {},
   "outputs": [
    {
     "data": {
      "image/png": "[encoded data removed]",
      "text/plain": [
       "<IPython.core.display.Image object>"
      ]
     },
     "metadata": {},
     "output_type": "display_data"
    }
   ],
   "source": [
    "from IPython.display import Image, display\n",
    "\n",
    "display(Image(app.get_graph(xray=True).draw_mermaid_png()))"
   ]
  },
  {
   "cell_type": "code",
   "execution_count": 50,
   "id": "705021db",
   "metadata": {},
   "outputs": [
    {
     "name": "stdout",
     "output_type": "stream",
     "text": [
      "================================\u001b[1m Human Message \u001b[0m=================================\n",
      "\n",
      "Hi I am Alex\n",
      "==================================\u001b[1m Ai Message \u001b[0m==================================\n",
      "\n",
      "Hello Alex! How can I assist you today?\n",
      "==================================\u001b[1m Ai Message \u001b[0m==================================\n",
      "\n",
      "Hello Alex! How can I assist you today?\n",
      "Goodbye!\n"
     ]
    }
   ],
   "source": [
    "language = \"English\"\n",
    "\n",
    "async def stream_graph_updates(user_input: Command | str):\n",
    "    async for step in app.astream(input=user_input, config=config, stream_mode=\"values\"):\n",
    "        # for value in step.values():\n",
    "        #     print(\"Assistant:\", value[\"messages\"][-1].content)\n",
    "        step[\"messages\"][-1].pretty_print()\n",
    "\n",
    "\n",
    "while True:\n",
    "    try:\n",
    "        user_input = input(\"User: \")\n",
    "        if user_input.lower() in [\"quit\", \"exit\", \"q\"]:\n",
    "            print(\"Goodbye!\")\n",
    "            break\n",
    "        user_input = {\n",
    "            \"messages\": [{\"role\": \"user\", \"content\": user_input}],\n",
    "            \"language\": language\n",
    "        }\n",
    "        # Stream updates from the graph\n",
    "        await stream_graph_updates(user_input)\n",
    "        # If human input is needed, it will be handled by the human_assistance tool\n",
    "        resume_map = {}\n",
    "\n",
    "        for i in app.get_state(config).interrupts:\n",
    "            prpmp = f\"Human input for: I need help with {i.value[\"query\"]}. Expected output: {i.value['expected_output']}\"\n",
    "            print(prpmp)\n",
    "            output = i.value[\"expected_output\"]\n",
    "            resume_map[i.id] = {\n",
    "                k: input(\"Input for \" + k + \": \") for k, v in output.items()\n",
    "            }\n",
    "\n",
    "        await stream_graph_updates(Command(resume=resume_map))\n",
    "    except Exception as e:\n",
    "        print(f\"An error occurred: {e}\")\n",
    "        # fallback if input() is not available\n",
    "        user_input = \"What do you know about LangGraph?\"\n",
    "\n",
    "        print(\"User: \" + user_input)\n",
    "        user_input = {\n",
    "            \"messages\": [{\"role\": \"user\", \"content\": user_input}],\n",
    "            \"language\": language,\n",
    "        }\n",
    "        await stream_graph_updates(user_input)\n",
    "        break"
   ]
  },
  {
   "cell_type": "code",
   "execution_count": 51,
   "id": "f68f5e13",
   "metadata": {},
   "outputs": [
    {
     "data": {
      "text/plain": [
       "()"
      ]
     },
     "execution_count": 51,
     "metadata": {},
     "output_type": "execute_result"
    }
   ],
   "source": [
    "snapshot = app.get_state(config)\n",
    "snapshot.next"
   ]
  },
  {
   "cell_type": "code",
   "execution_count": 52,
   "id": "e305609f",
   "metadata": {},
   "outputs": [
    {
     "name": "stdout",
     "output_type": "stream",
     "text": [
      "Resume Map: {}\n"
     ]
    }
   ],
   "source": [
    "# Resume with mapping of interrupt IDs to values\n",
    "resume_map = {\n",
    "    i.id: f\"human input for prompt {i.value}\"\n",
    "    for i in app.get_state(config).interrupts\n",
    "}\n",
    "\n",
    "print(\"Resume Map:\", resume_map)"
   ]
  },
  {
   "cell_type": "code",
   "execution_count": 53,
   "id": "91c3f634",
   "metadata": {},
   "outputs": [
    {
     "name": "stdout",
     "output_type": "stream",
     "text": [
      "==================================\u001b[1m Ai Message \u001b[0m==================================\n",
      "\n",
      "Hello Alex! It's nice to meet you. How can I assist you today?\n"
     ]
    }
   ],
   "source": [
    "query = \"Hi! I'm Alex.\"\n",
    "language = \"English\"\n",
    "\n",
    "input_messages = [HumanMessage(query)]\n",
    "output = app.invoke({\"messages\": input_messages, \"language\": language}, config)\n",
    "output[\"messages\"][-1].pretty_print()  # output contains all messages in state"
   ]
  },
  {
   "cell_type": "markdown",
   "id": "22a74c7a",
   "metadata": {},
   "source": [
    "To use it in our chain, we just need to run the trimmer before we pass the messages input to our prompt.\n",
    "Now if we try asking the model our name, it won't know it since we trimmed that part of the chat history:\n",
    "\n"
   ]
  },
  {
   "cell_type": "code",
   "execution_count": 54,
   "id": "49aa23b5",
   "metadata": {},
   "outputs": [
    {
     "name": "stdout",
     "output_type": "stream",
     "text": [
      "==================================\u001b[1m Ai Message \u001b[0m==================================\n",
      "\n",
      "Your name is Bob, based on your previous introduction. Is there anything specific you would like to know or any assistance you need with?\n"
     ]
    }
   ],
   "source": [
    "query = \"What's my name?\"\n",
    "\n",
    "input_messages = messages + [HumanMessage(query)]\n",
    "output = app.invoke({\"messages\": input_messages, \"language\": language}, config)\n",
    "output[\"messages\"][-1].pretty_print()"
   ]
  },
  {
   "cell_type": "markdown",
   "id": "424f8e70",
   "metadata": {},
   "source": [
    "But if we ask about information that is within the last few messages, it remembers:\n"
   ]
  },
  {
   "cell_type": "code",
   "execution_count": 55,
   "id": "67998fbd",
   "metadata": {},
   "outputs": [
    {
     "name": "stdout",
     "output_type": "stream",
     "text": [
      "==================================\u001b[1m Ai Message \u001b[0m==================================\n",
      "\n",
      "You asked what 2 + 2 is, and the answer is 4.\n"
     ]
    }
   ],
   "source": [
    "config = {\"configurable\": {\"thread_id\": \"abc678\"}}\n",
    "query = \"What math problem did I ask?\"\n",
    "language = \"English\"\n",
    "\n",
    "input_messages = messages + [HumanMessage(query)]\n",
    "output = app.invoke(\n",
    "    {\"messages\": input_messages, \"language\": language},\n",
    "    config,\n",
    ")\n",
    "output[\"messages\"][-1].pretty_print()"
   ]
  },
  {
   "cell_type": "markdown",
   "id": "79da9ab6",
   "metadata": {},
   "source": [
    "https://python.langchain.com/docs/tutorials/chatbot/#streaming\n",
    "\n",
    "Streaming\n",
    "\n",
    "Now we've got a functioning chatbot. However, one really important UX consideration for chatbot applications is streaming. LLMs can sometimes take a while to respond, and so in order to improve the user experience one thing that most applications do is stream back each token as it is generated. This allows the user to see progress.\n",
    "\n",
    "It's actually super easy to do this!\n",
    "\n",
    "By default, .stream in our LangGraph application streams application steps-- in this case, the single step of the model response. Setting stream_mode=\"messages\" allows us to stream output tokens instead:"
   ]
  },
  {
   "cell_type": "code",
   "execution_count": 56,
   "id": "e19768fc",
   "metadata": {},
   "outputs": [
    {
     "name": "stdout",
     "output_type": "stream",
     "text": [
      "Hello  Todd !  Here 's  a  light  joke  for  you :  Why  was  the  math  book  sad ?  Because  it  had  too  many  problems .  Enjoy !  Do  you  want  to  hear  another  one ?  "
     ]
    }
   ],
   "source": [
    "config = {\"configurable\": {\"thread_id\": \"abc4576\"}}\n",
    "query = \"Hi I'm Todd, tell me a joke.\"\n",
    "language = \"English\"\n",
    "\n",
    "input_messages = [HumanMessage(query)]\n",
    "for chunk, metadata in app.stream(\n",
    "    {\"messages\": input_messages, \"language\": language},\n",
    "    config,\n",
    "    stream_mode=\"messages\",\n",
    "):\n",
    "    if isinstance(chunk, AIMessage):  # Filter to just model responses\n",
    "        print(chunk.content, end=\" \")"
   ]
  },
  {
   "cell_type": "markdown",
   "id": "23aaf31c",
   "metadata": {},
   "source": [
    "### End to End Agent with tools - Abstraction"
   ]
  },
  {
   "cell_type": "code",
   "execution_count": 57,
   "id": "e2960a37",
   "metadata": {},
   "outputs": [],
   "source": [
    "# Create a React agent with memory and tools\n",
    "from langgraph.prebuilt import create_react_agent\n",
    "\n",
    "agent_executor = create_react_agent(llm, tools, checkpointer=memory)\n"
   ]
  },
  {
   "cell_type": "code",
   "execution_count": 58,
   "id": "5c4ad5a3",
   "metadata": {},
   "outputs": [
    {
     "name": "stdout",
     "output_type": "stream",
     "text": [
      "================================\u001b[1m Human Message \u001b[0m=================================\n",
      "\n",
      "Hi, I'm Bob and I live in SF.\n",
      "==================================\u001b[1m Ai Message \u001b[0m==================================\n",
      "\n",
      "Hello Bob! It's nice to meet you. How can I assist you today in San Francisco? Do you have any specific questions or needs?\n"
     ]
    }
   ],
   "source": [
    "# Use the agent\n",
    "config = {\"configurable\": {\"thread_id\": \"abc123\"}}\n",
    "\n",
    "input_message = {\n",
    "    \"role\": \"user\",\n",
    "    \"content\": \"Hi, I'm Bob and I live in SF.\",\n",
    "}\n",
    "for step in agent_executor.stream(\n",
    "    {\"messages\": [input_message]}, config, stream_mode=\"values\"\n",
    "):\n",
    "    step[\"messages\"][-1].pretty_print()"
   ]
  },
  {
   "cell_type": "code",
   "execution_count": 59,
   "id": "f683bc1b",
   "metadata": {},
   "outputs": [
    {
     "name": "stdout",
     "output_type": "stream",
     "text": [
      "================================\u001b[1m Human Message \u001b[0m=================================\n",
      "\n",
      "What is the weather where I live\n",
      "==================================\u001b[1m Ai Message \u001b[0m==================================\n",
      "\n",
      "To provide you with the current weather in San Francisco, I need to search for this information online. Let me check that for you.\n",
      "Tool Calls:\n",
      "  WebSearch (6eafd465-4453-4aad-9e4d-4b48160407aa)\n",
      " Call ID: 6eafd465-4453-4aad-9e4d-4b48160407aa\n",
      "  Args:\n",
      "    __arg1: current weather in San Francisco\n",
      "=================================\u001b[1m Tool Message \u001b[0m=================================\n",
      "Name: WebSearch\n",
      "\n",
      "Weather Today in San Francisco, CA. Feels Like58°. 5:56 am. 8:33 pm. High / Low. --/53°. Wind. 17 mph. Humidity. 77%. Dew Point. 54°. Pressure. 30.06 in. Current Weather. 9:35 AM. 59°F. Cloudy. RealFeel® 61° · Looking Ahead. Seasonal temperatures for the next 5 days. San Francisco Weather Radar ... Weather Near San ... San Francisco, CA · Current Weather. 6:07 AM. 59°F. Mostly cloudy. RealFeel® 58°. Cool. RealFeel Guide. Cool. 53° to 62°. Light jacket ... AccuWeather · Feels Like. 61°. Sunrise. 6:26 AM · Humidity. 91%. Sunset. 8:00 PM · Windspeed. WSW 13 mph. Moonrise. null · Pressure. 30.01 in. Moonset. 2:56 PM. Sun 15 · 63 · Sunshine and clouds mixed. High 63F. Winds W at 15 to 25 mph. ; Mon 16 · 63 · Some clouds in the morning will give way to mainly sunny skies for the ... NWS Forecast Office San Francisco, CA · Submit Report · Current Outlooks · Detailed Hazards · Daily Briefing · Tsunami · Graphical Hazardous Weather Outlook. Cloudy. Expect mist and reduced visibilities at times. Low 58F. Winds W at 10 to 20 mph. Sun. 6:28AM. 8:01PM. Get the latest First Alert Weather forecasts and news from KPIX-TV CBS San Francisco ... Current Conditions. San Francisco, CA. °F°C. Partly Cloudy60°. 58 ... Partly cloudy skies. Expect mist and reduced visibilities at times. Low 57F. Winds W at 10 to 20 mph. Humidity87%. 57°F Mostly cloudy skies. Low 57F. Winds WNW at 10 to 20 mph. Wind: 16 mph WNW; Precip: 20%; Sunset: 7:59 PM; Moon Phase: Waning Crescent.\n",
      "==================================\u001b[1m Ai Message \u001b[0m==================================\n",
      "\n",
      "The current weather in San Francisco is partly cloudy with a temperature of around 59°F (about 15°C). It feels like it's 61°F due to the humidity, which is at 91%. The wind is blowing from the west-southwest at about 13 mph. Visibility can be reduced at times due to mist.\n",
      "\n",
      "The high for today is expected to reach around 60°F (about 15°C), and it will feel like 62°F. Tonight, temperatures are forecasted to drop to a low of 58°F (about 14°C).\n",
      "\n",
      "If you need more detailed information or updates throughout the day, let me know!\n"
     ]
    }
   ],
   "source": [
    "# Use the agent\n",
    "config = {\"configurable\": {\"thread_id\": \"abc123\"}}\n",
    "\n",
    "input_message = {\n",
    "    \"role\": \"user\",\n",
    "    \"content\": \"What is the weather where I live\",\n",
    "}\n",
    "for step in agent_executor.stream(\n",
    "    {\"messages\": [input_message]}, config, stream_mode=\"values\"\n",
    "):\n",
    "    step[\"messages\"][-1].pretty_print()"
   ]
  },
  {
   "cell_type": "code",
   "execution_count": 60,
   "id": "f6a5333a",
   "metadata": {},
   "outputs": [
    {
     "data": {
      "image/png": "[encoded data removed]",
      "text/plain": [
       "<IPython.core.display.Image object>"
      ]
     },
     "metadata": {},
     "output_type": "display_data"
    }
   ],
   "source": [
    "display(Image(agent_executor.get_graph().draw_mermaid_png()))"
   ]
  }
 ],
 "metadata": {
  "kernelspec": {
   "display_name": "genai-stack-py3.12",
   "language": "python",
   "name": "python3"
  },
  "language_info": {
   "codemirror_mode": {
    "name": "ipython",
    "version": 3
   },
   "file_extension": ".py",
   "mimetype": "text/x-python",
   "name": "python",
   "nbconvert_exporter": "python",
   "pygments_lexer": "ipython3",
   "version": "3.11.2"
  }
 },
 "nbformat": 4,
 "nbformat_minor": 5
}
